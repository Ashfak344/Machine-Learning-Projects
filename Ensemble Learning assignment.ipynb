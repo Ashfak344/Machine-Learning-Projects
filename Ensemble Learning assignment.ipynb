{
 "cells": [
  {
   "cell_type": "code",
   "execution_count": 1,
   "id": "49f3c66a",
   "metadata": {},
   "outputs": [
    {
     "name": "stdout",
     "output_type": "stream",
     "text": [
      "lr = 0.864\n",
      "rf = 0.896\n",
      "svc = 0.896\n"
     ]
    }
   ],
   "source": [
    "from sklearn.datasets import make_moons\n",
    "from sklearn.ensemble import RandomForestClassifier, VotingClassifier\n",
    "from sklearn.linear_model import LogisticRegression\n",
    "from sklearn.model_selection import train_test_split\n",
    "from sklearn.svm import SVC\n"
   ]
  },
  {
   "cell_type": "markdown",
   "id": "22cf401b",
   "metadata": {},
   "source": [
    "first of all we are importing the dataset and the dependencies we will be using. Then we will split the dataset and declare a random state so that we can keep track of our training set."
   ]
  },
  {
   "cell_type": "code",
   "execution_count": null,
   "id": "0eb88665",
   "metadata": {},
   "outputs": [],
   "source": [
    "X, y = make_moons(n_samples=500, noise=0.30, random_state=42)\n",
    "X_train, X_test, y_train, y_test = train_test_split(X, y, random_state=42)\n"
   ]
  },
  {
   "cell_type": "markdown",
   "id": "e9189b08",
   "metadata": {},
   "source": [
    "In voting classifier we are using Linear Regression, Random Forest Regressor and Support Vector Machine."
   ]
  },
  {
   "cell_type": "code",
   "execution_count": null,
   "id": "66fc738f",
   "metadata": {},
   "outputs": [],
   "source": [
    "voting_clf = VotingClassifier(\n",
    "    estimators=[\n",
    "        ('lr', LogisticRegression(random_state=42)),\n",
    "        ('rf', RandomForestClassifier(random_state=42)),\n",
    "        ('svc', SVC(random_state=42))\n",
    "    ]\n",
    ")"
   ]
  },
  {
   "cell_type": "markdown",
   "id": "4a84236a",
   "metadata": {},
   "source": [
    "Now we will train our dataset using voting classifier"
   ]
  },
  {
   "cell_type": "code",
   "execution_count": null,
   "id": "2ccf67f3",
   "metadata": {},
   "outputs": [],
   "source": [
    "voting_clf.fit(X_train, y_train)\n"
   ]
  },
  {
   "cell_type": "markdown",
   "id": "c45fb3f3",
   "metadata": {},
   "source": [
    "Now we will print the output of the voting classifier"
   ]
  },
  {
   "cell_type": "code",
   "execution_count": null,
   "id": "2af37d99",
   "metadata": {},
   "outputs": [],
   "source": [
    "\n",
    "for name, clf in voting_clf.named_estimators_.items():\n",
    "    print(name, \"=\", clf.score(X_test, y_test))"
   ]
  },
  {
   "cell_type": "markdown",
   "id": "4f95a2c4",
   "metadata": {},
   "source": [
    "Our task is to examine the classifier using some other classifiers. We will be using \"Nearest Neighbors\",\"Linear SVM\",\"RBF SVM\",\"Gaussian Process\",\"Decision Tree\" and \"Random Forest\"."
   ]
  },
  {
   "cell_type": "code",
   "execution_count": 2,
   "id": "2c779e9d",
   "metadata": {},
   "outputs": [
    {
     "name": "stdout",
     "output_type": "stream",
     "text": [
      "lr = 0.864\n",
      "rf = 0.896\n",
      "svc = 0.896\n",
      "knn = 0.912\n",
      "linear_svc = 0.856\n",
      "rbf_svc = 0.896\n",
      "gpc = 0.856\n",
      "dt = 0.856\n"
     ]
    }
   ],
   "source": [
    "\n",
    "from sklearn.neighbors import KNeighborsClassifier\n",
    "from sklearn.svm import SVC\n",
    "from sklearn.gaussian_process import GaussianProcessClassifier\n",
    "from sklearn.tree import DecisionTreeClassifier\n",
    "from sklearn.ensemble import RandomForestClassifier\n",
    "\n",
    "\n",
    "classifiers = [\n",
    "    ('lr', LogisticRegression(random_state=42)),\n",
    "    ('rf', RandomForestClassifier(random_state=42)),\n",
    "    ('svc', SVC(random_state=42)),\n",
    "    ('knn', KNeighborsClassifier()),  # K-Nearest Neighbors\n",
    "    ('linear_svc', SVC(kernel='linear', random_state=42)),  # Linear SVM\n",
    "    ('rbf_svc', SVC(kernel='rbf', random_state=42)),  # RBF SVM\n",
    "    ('gpc', GaussianProcessClassifier(random_state=42)),  # Gaussian Process\n",
    "    ('dt', DecisionTreeClassifier(random_state=42)),  # Decision Tree\n",
    "   \n",
    "]\n",
    "\n",
    "voting_clf = VotingClassifier(estimators=classifiers)\n",
    "\n",
    "voting_clf.fit(X_train, y_train)\n",
    "\n",
    "for name, clf in voting_clf.named_estimators_.items():\n",
    "    print(name, \"=\", clf.score(X_test, y_test))\n"
   ]
  },
  {
   "cell_type": "code",
   "execution_count": null,
   "id": "e64f10aa",
   "metadata": {},
   "outputs": [],
   "source": []
  },
  {
   "cell_type": "code",
   "execution_count": null,
   "id": "54c2588a",
   "metadata": {},
   "outputs": [],
   "source": []
  }
 ],
 "metadata": {
  "kernelspec": {
   "display_name": "Python 3 (ipykernel)",
   "language": "python",
   "name": "python3"
  },
  "language_info": {
   "codemirror_mode": {
    "name": "ipython",
    "version": 3
   },
   "file_extension": ".py",
   "mimetype": "text/x-python",
   "name": "python",
   "nbconvert_exporter": "python",
   "pygments_lexer": "ipython3",
   "version": "3.9.13"
  }
 },
 "nbformat": 4,
 "nbformat_minor": 5
}
